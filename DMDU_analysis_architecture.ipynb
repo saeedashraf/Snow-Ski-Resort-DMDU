{
 "cells": [
  {
   "cell_type": "markdown",
   "metadata": {},
   "source": [
    "# Architecture of the DMDU_analysis\n",
    "In this file, the structure of the DMDU analysis is outlined. "
   ]
  },
  {
   "cell_type": "markdown",
   "metadata": {},
   "source": [
    "To start with, I follow the steps proposed in the DMDU book, chapter 15: Kwakkel and Haasnoot (2019) \"Supporting DMDU: a taxonomy of approaches and tools\"\n",
    "\n",
    "**Policy architecture: protective adaptivity**\n",
    "\n",
    "In this study, we will protect one specified plan against contingencies. Our plan is to maintain the winter sport tourism in this particular region, with the help of artifical snow making. The objective is to avoid a climate change induced socio-economic tipping point.\n",
    "\n",
    "**Policy alternatives: artificial snow making yes/no**\n",
    "\n",
    "We start examining the impact of 'turning' one policy lever:\n",
    " - Artificial snow making yes/no\n",
    " \n",
    "What we also could examine:\n",
    " - A cash injection when the resort is at risk of bankruptcy\n",
    "\n",
    "**Generation of scenarios**\n",
    "\n",
    "In total, 68 time series are available, with daily precipitation, minimum and maximum temperature. These 68 series belong to three different climate scenarios:\n",
    " - 31 realisations for RCP8.5\n",
    " - 25 realisations for RCP4.5\n",
    " - 12 realisations for RCP2.8\n",
    " \n",
    " Each realisation belongs to a unique combination of global and regional circulation/climate model.\n",
    " \n",
    " In a later stage, we will use bootstrapping techniques to create more possible time series.\n",
    "\n",
    "**Robustness metrics**\n",
    "\n",
    "A satisficing metric will be used to evaluate the scenarios and policy levers. To start with, we will assume that a tipping occurs if we have three years in a row with insufficient snow conditions.\n",
    "\n",
    "**Vulnerability analysis**\n",
    "\n",
    "We will use subspace partitioning to discover the scenarios in which tipping points most certainly will take place\n"
   ]
  },
  {
   "cell_type": "markdown",
   "metadata": {},
   "source": [
    "## Structure of the model\n",
    "\n",
    "### Bootstrapping module\n",
    "We will need to develop a module that creates more climate realisations from the available time series.\n",
    "\n",
    "### Snow cover model\n",
    "The snow cover model (currently C#), converts the P,T_min,T_max daily time series into a daily time-series with snow cover (snow depth) per time-step. The model accounts for accretion, precipitation, and evaporation.\n",
    "\n",
    "### Tipping point evaluation\n",
    "There are multiple ways to evaluate the (potential) occurence of tipping points.\n",
    "\n",
    "*On the basis of stakeholder narrative*\n",
    "\n",
    "In the most simple form, we do not try to mimic the financial position of the resort over time, but simply use a rule-of-thumb which common among ski operators: the 100-day rule. A good snow day is defined as a day with a snow cover of at least 30 cm. One needs at least 100 days of good snow conditions, on average, to have a profitable resort. A bankruptcy (tipping point) occurs when there is 3 years with less than 100 days of good snow cover in a row.\n"
   ]
  },
  {
   "cell_type": "code",
   "execution_count": null,
   "metadata": {},
   "outputs": [],
   "source": []
  }
 ],
 "metadata": {
  "kernelspec": {
   "display_name": "Python 3",
   "language": "python",
   "name": "python3"
  },
  "language_info": {
   "codemirror_mode": {
    "name": "ipython",
    "version": 3
   },
   "file_extension": ".py",
   "mimetype": "text/x-python",
   "name": "python",
   "nbconvert_exporter": "python",
   "pygments_lexer": "ipython3",
   "version": "3.8.1"
  }
 },
 "nbformat": 4,
 "nbformat_minor": 4
}
