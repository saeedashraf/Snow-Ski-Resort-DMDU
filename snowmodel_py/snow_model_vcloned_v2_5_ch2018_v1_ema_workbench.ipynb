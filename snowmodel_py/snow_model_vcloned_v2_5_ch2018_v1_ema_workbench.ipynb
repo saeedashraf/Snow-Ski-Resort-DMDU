{
 "cells": [
  {
   "cell_type": "markdown",
   "metadata": {},
   "source": [
    "### *Reading the libraries*"
   ]
  },
  {
   "cell_type": "code",
   "execution_count": 3,
   "metadata": {},
   "outputs": [],
   "source": [
    "import numpy as np\n",
    "import pandas as pd\n",
    "import os\n",
    "import os.path\n",
    "from operator import add\n",
    "from datetime import datetime, date, timedelta\n",
    "from matplotlib import pyplot as plt"
   ]
  },
  {
   "cell_type": "markdown",
   "metadata": {},
   "source": [
    "### *Seting up the display extent*"
   ]
  },
  {
   "cell_type": "code",
   "execution_count": 2,
   "metadata": {},
   "outputs": [],
   "source": [
    "pd.set_option('display.max_columns',69)\n",
    "pd.set_option('display.max_rows',138)"
   ]
  },
  {
   "cell_type": "markdown",
   "metadata": {},
   "source": [
    "## Step 1: Setting Up Climate Scenarios (CH2018, and Random Scenarios)"
   ]
  },
  {
   "cell_type": "code",
   "execution_count": 3,
   "metadata": {},
   "outputs": [],
   "source": [
    "def is_leap(year):\n",
    "    \"\"\" return true for leap years, False for non leap years \"\"\"\n",
    "    return year % 4 == 0 and ( year % 100 != 0 or year % 400 == 0)\n",
    "\n",
    "def chunks(lst, n):\n",
    "    \"\"\"Yield successive n-sized chunks from lst.\"\"\"\n",
    "    for i in range(0, len(lst), n):\n",
    "        yield lst[i:i + n]"
   ]
  },
  {
   "cell_type": "markdown",
   "metadata": {},
   "source": [
    "### S1.1. *Function that pruduces new climate (precipitation) realization*"
   ]
  },
  {
   "cell_type": "code",
   "execution_count": 4,
   "metadata": {},
   "outputs": [],
   "source": [
    "def random_pcp(dfpcp, FirstYear, LastYear, ScenarioNumbers, RCPNames, Xfactor1):\n",
    "    \n",
    "    #outFileName = OutFileName\n",
    "    dfpcpCol = dfpcp.columns\n",
    "    #sceNum = len(dfCol)\n",
    "\n",
    "    sceNum = ScenarioNumbers\n",
    "    firstYear = FirstYear\n",
    "    lastYear = LastYear\n",
    "    simLen = lastYear - firstYear + 1\n",
    "\n",
    "    from random import shuffle\n",
    "    #a = []\n",
    "    #for x in range(simLen): \n",
    "        #randomInd = [z for z in range(sceNum)]\n",
    "        #shuffle(randomInd)\n",
    "        #a.append(randomInd)\n",
    "        \n",
    "        \n",
    "    a = []\n",
    "    for i in range(simLen): \n",
    "        randomInd = [z for z in range(sceNum)]\n",
    "        #x = [[i] for i in range(10)] \n",
    "        for x in range(int(round(Xfactor1))):\n",
    "            shuffle(randomInd)\n",
    "        a.append(randomInd)\n",
    "    \n",
    "    \n",
    "        \n",
    "    RCP = RCPNames\n",
    "    columnsDfpcp = ['sc_' + RCP + str(k) for k in range(1, sceNum+1,1)] \n",
    "    c = [[19810101 for p in range(sceNum)]]\n",
    "    #df1 = 'df' + str(outDFNumber)\n",
    "    df1pcp = pd.DataFrame(c, columns =columnsDfpcp)\n",
    "    #df1.to_csv('SAeidVaghefimodified1111222.csv', index = False)\n",
    "\n",
    "    c.clear()\n",
    "\n",
    "    i = 0\n",
    "    p = 1\n",
    "    for m in range(firstYear, lastYear + 1, 1):\n",
    "        if is_leap(m):\n",
    "            for j in range(((m - firstYear)*365+p) , ((m - firstYear)*365+367+p-1), 1):\n",
    "                c.append(dfpcp[dfpcpCol[a[i]]].iloc[j].values) \n",
    "            i += 1 # counter i; equal to simulation length (simLen)\n",
    "            p += 1\n",
    "\n",
    "        else:\n",
    "            for j in range(((m - firstYear)*365+p), ((m - firstYear)*365+366+p-1), 1):\n",
    "                c.append(dfpcp[dfpcpCol[a[i]]].iloc[j].values) \n",
    "            i += 1\n",
    "                \n",
    "        #print(m) # this line show the progress of the work by typing the years of simulation\n",
    "\n",
    "        dfnewpcp = 'df' + str(m)\n",
    "        dfnewpcp = pd.DataFrame(c, columns =columnsDfpcp)\n",
    "        c.clear()\n",
    "        df1pcp = df1pcp.append(dfnewpcp, ignore_index=True)\n",
    "        \n",
    "    return df1pcp"
   ]
  },
  {
   "cell_type": "markdown",
   "metadata": {},
   "source": [
    "### S1.2. *Function that pruduces new climate (temperature) realization*"
   ]
  },
  {
   "cell_type": "code",
   "execution_count": 5,
   "metadata": {},
   "outputs": [],
   "source": [
    "def random_tmp(dftmp, FirstYear, LastYear, ScenarioNumbers, RCPNames, Xfactor1):\n",
    "\n",
    "    #dfCol = df.columns\n",
    "    #sceNum = len(dfCol) // 2\n",
    "    sceNum = ScenarioNumbers\n",
    "    firstYear = FirstYear\n",
    "    lastYear = LastYear\n",
    "    simLen = lastYear - firstYear + 1\n",
    "\n",
    "    dftmpColMax = dftmp.columns[[i for i in range(0, sceNum*2, 2)]]\n",
    "    dftmpColMin = dftmp.columns[[i for i in range(1, sceNum*2, 2)]]\n",
    "\n",
    "    ## yek list be toole 119 ke dakhelesh list haye 68 ta ee darim be soorate random\n",
    "    from random import shuffle\n",
    "    #a = []\n",
    "    #for i in range(simLen): \n",
    "        #randomInd = [j for j in range(sceNum)]\n",
    "        #x = [[i] for i in range(10)] \n",
    "        #shuffle(randomInd)\n",
    "        #a.append(randomInd)\n",
    "        \n",
    "    \n",
    "    a = []\n",
    "    for i in range(simLen): \n",
    "        randomInd = [j for j in range(sceNum)]\n",
    "        #x = [[i] for i in range(10)] \n",
    "        for x in range(int(round(Xfactor1))):\n",
    "            shuffle(randomInd)\n",
    "        a.append(randomInd)\n",
    "    \n",
    "        \n",
    "    #print('end!')\n",
    "\n",
    "    cT = []\n",
    "    RCP = RCPNames\n",
    "    columnsDfOdd = ['sc_' + RCP + str(k)  for k in range(1, sceNum+1,1)] \n",
    "    columnsDfEven = [\"\"] * sceNum\n",
    "\n",
    "    columnsDftmp = []\n",
    "    #colOdd = ['Scr_' + str(i) for i in range(1, sceNum+1, 1)]\n",
    "    #colEven = ['' for i in range(1, sceNum+1,1)]\n",
    "\n",
    "    for i in range (sceNum):\n",
    "        columnsDftmp.append(columnsDfOdd[i])\n",
    "        columnsDftmp.append(columnsDfEven[i])\n",
    "\n",
    "\n",
    "    #### OR:\n",
    "    #columnsDf = [\"Sr\", \"\"] * sceNum\n",
    "    df1tmp = pd.DataFrame(cT, columns =columnsDftmp)\n",
    "    #df1.to_csv(\"rrrrrrrrmodified1111222.csv\", index = False)\n",
    "\n",
    "\n",
    "    cMax = [[19810101 for p in range(sceNum)]]\n",
    "    cMin = [[\"\" for p in range(sceNum)]]\n",
    "    i = 0\n",
    "    p = 1\n",
    "    for m in range(firstYear, lastYear + 1, 1):\n",
    "        if is_leap(m):\n",
    "            for j in range(((m - firstYear)*365+p) , ((m - firstYear)*365+367+p-1), 1):\n",
    "                cMax.append(dftmp[dftmpColMax[a[i]]].iloc[j].values)\n",
    "                cMin.append(dftmp[dftmpColMin[a[i]]].iloc[j].values) \n",
    "    \n",
    "            i += 1\n",
    "\n",
    "        else:\n",
    "            for j in range(((m - firstYear)*365+p), ((m - firstYear)*365+366+p-1), 1):\n",
    "                cMax.append(dftmp[dftmpColMax[a[i]]].iloc[j].values)\n",
    "                cMin.append(dftmp[dftmpColMin[a[i]]].iloc[j].values)\n",
    "\n",
    "            i += 1\n",
    "\n",
    "        c = []\n",
    "        for y in range(0, len(cMax), 1): # the length of simulation years\n",
    "            for z in range(sceNum): # range(4)\n",
    "                c.append(cMax[y][z])\n",
    "                c.append(cMin[y][z])\n",
    "\n",
    "        cMax.clear()\n",
    "        cMin.clear()\n",
    "\n",
    "        cMain = []\n",
    "        cMain = list(chunks(c, sceNum * 2))\n",
    "        #print(m) # this line show the progress of the work by typing the years of simulation\n",
    "\n",
    "    ### Should be checked\n",
    "\n",
    "        dfnewtmp = 'dftmp' + str(m)\n",
    "        #columnsDf = [\"Sr\", \"\"]*sceNum\n",
    "        #columnsDf = [['sc_' + str(k), \"\"] for k in range(1, sceNum+1,1)] \n",
    "        dfnewtmp = pd.DataFrame(cMain, columns =columnsDftmp)\n",
    "        c.clear()\n",
    "        df1tmp = df1tmp.append(dfnewtmp, ignore_index=True)\n",
    "        \n",
    "    return df1tmp"
   ]
  },
  {
   "cell_type": "markdown",
   "metadata": {},
   "source": [
    "### S1.3. *Function that calls the random_pcp and random_tmp for all stations of a Ski resort*"
   ]
  },
  {
   "cell_type": "code",
   "execution_count": 6,
   "metadata": {},
   "outputs": [],
   "source": [
    "def randomness_pcp_tmp(fnames, Xfactor1):\n",
    "    for f in fnames:\n",
    "        if 'p.csv' in f:\n",
    "            print('Writing pcp files started!')\n",
    "            #df = pd.read_csv('47-0625000_8-6666667p.csv')\n",
    "            dfpcp = pd.read_csv(f)\n",
    "\n",
    "\n",
    "            filt1 = dfpcp.columns.str.contains('RCP26|_26_') #12\n",
    "            filt2 = dfpcp.columns.str.contains('RCP45|_45_') #25\n",
    "            filt3 = dfpcp.columns.str.contains('RCP85|_85_') #31\n",
    "\n",
    "            dfpcpRCP26 = dfpcp.loc[:, filt1]\n",
    "            dfpcpRCP45 = dfpcp.loc[:, filt2]\n",
    "            dfpcpRCP85 = dfpcp.loc[:, filt3]\n",
    "\n",
    "            dfpcpRCP26_n = random_pcp(dfpcpRCP26, 1981, 2099, 12, '26_', Xfactor1)\n",
    "            dfpcpRCP45_n = random_pcp(dfpcpRCP45, 1981, 2099, 25, '45_', Xfactor1)\n",
    "            dfpcpRCP85_n = random_pcp(dfpcpRCP85, 1981, 2099, 31, '85_', Xfactor1)\n",
    "\n",
    "\n",
    "            result = pd.concat([dfpcpRCP26_n, dfpcpRCP45_n, dfpcpRCP85_n], axis=1, sort=False)\n",
    "            #result.to_csv('47-0625000_8-6666667p_n1.csv', index = False)\n",
    "\n",
    "\n",
    "            #newName = 'n_'+ f\n",
    "            newName = f\n",
    "            #filepath = os.path.join(os.getcwd(), newName)\n",
    "            root = os.getcwd()\n",
    "            \n",
    "            '''This part makes a new dir for outouts''' ## should be cooment out later\n",
    "            #if os.path.isdir(os.path.join(root, 'Outputs_randomness')):\n",
    "                #pass\n",
    "            #else: os.mkdir(os.path.join(root, 'Outputs_randomness'))\n",
    "\n",
    "            #outfolder = os.path.join(os.getcwd(), 'Outputs_randomness')\n",
    "            outfolder =os.path.join(os.getcwd()) # we want the results to be over written\n",
    "\n",
    "            filepath = os.path.join(outfolder, newName)\n",
    "\n",
    "            result.to_csv(filepath, index = False)\n",
    "            print('End of writing pcp files!')\n",
    "            #print(\"--- %s seconds ---\" % (time.time() - start_time))\n",
    "\n",
    "\n",
    "        elif 't.csv' in f:\n",
    "            print('Writing tmp files started!')\n",
    "            dftmp = pd.read_csv(f)\n",
    "            dftmpCol = list(dftmp.columns)\n",
    "\n",
    "            filt1_max = [dftmpCol.index(s) for s in dftmpCol if (\"_26_\") in s or (\"RCP26\") in s]\n",
    "            filt2_max = [dftmpCol.index(s) for s in dftmpCol if (\"_45_\") in s or (\"RCP45\") in s]\n",
    "            filt3_max = [dftmpCol.index(s) for s in dftmpCol if (\"_85_\") in s or (\"RCP85\") in s]\n",
    "\n",
    "            aOnefilt1= [1]*len(filt1_max)\n",
    "            aOnefilt2= [1]*len(filt2_max)\n",
    "            aOnefilt3= [1]*len(filt3_max)\n",
    "\n",
    "            filt1_min = list(map(add, filt1_max, aOnefilt1)) # \n",
    "            filt2_min = list(map(add, filt2_max, aOnefilt2))\n",
    "            filt3_min = list(map(add, filt3_max, aOnefilt3))\n",
    "\n",
    "            filt1Tot = []\n",
    "            for i in range(len(filt1_max)):\n",
    "                filt1Tot.append(filt1_max[i])\n",
    "                filt1Tot.append(filt1_min[i])\n",
    "\n",
    "            filt2Tot = []\n",
    "            for j in range(len(filt2_max)):\n",
    "                filt2Tot.append(filt2_max[j])\n",
    "                filt2Tot.append(filt2_min[j])\n",
    "\n",
    "            filt3Tot = []\n",
    "            for k in range(len(filt3_max)):\n",
    "                filt3Tot.append(filt3_max[k])\n",
    "                filt3Tot.append(filt3_min[k])\n",
    "\n",
    "            dftmpRCP26 = dftmp[dftmp.columns[filt1Tot]]\n",
    "            dftmpRCP45 = dftmp[dftmp.columns[filt2Tot]]\n",
    "            dftmpRCP85 = dftmp[dftmp.columns[filt3Tot]]\n",
    "\n",
    "            dftmpRCP26_n = random_tmp (dftmpRCP26, 1981, 2099, 12, '26_', Xfactor1)\n",
    "            dftmpRCP45_n = random_tmp (dftmpRCP45, 1981, 2099, 25, '45_', Xfactor1)\n",
    "            dftmpRCP85_n = random_tmp (dftmpRCP85, 1981, 2099, 31, '85_', Xfactor1)\n",
    "\n",
    "            result = pd.concat([dftmpRCP26_n, dftmpRCP45_n, dftmpRCP85_n], axis=1, sort=False)\n",
    "\n",
    "            #ewName = 'n'+f\n",
    "            #ilepath = os.path.join(os.environ.get('HOME'), newName)\n",
    "            #esult.to_csv(filepath, index = False)\n",
    "\n",
    "            #newName = 'n_'+ f\n",
    "            newName = f\n",
    "            #filepath = os.path.join(os.getcwd(), newName)\n",
    "\n",
    "            #outfolder =os.path.join(os.getcwd(), 'Outputs_randomness')\n",
    "            outfolder =os.path.join(os.getcwd()) # we want the results to be over written\n",
    "            \n",
    "            filepath = os.path.join(outfolder, newName)\n",
    "            result.to_csv(filepath, index = False)\n",
    "\n",
    "            print('End of writing tmp files')\n",
    "\n",
    "        else :\n",
    "            pass"
   ]
  },
  {
   "cell_type": "markdown",
   "metadata": {},
   "source": [
    "## Step 2: Function for initiating the main dictionary of climate stations"
   ]
  },
  {
   "cell_type": "code",
   "execution_count": 7,
   "metadata": {},
   "outputs": [],
   "source": [
    "def create_dic(a):\n",
    "    '''Function: creating a dictionary for each climate station'''\n",
    "    \n",
    "    a = {}\n",
    "    keys = ['fM', 'iPot', 'rSnow', 'dSnow', 'cPrec', 'dP', 'elev', 'lat', 'long', 'fileName']\n",
    "    a = {key: None for key in keys}\n",
    "    return a\n",
    "\n",
    "def initialize_input_dict (mainFolderSki):\n",
    "    ''' This function returns a dictionary , and addresses of 4 folders'''\n",
    "    \n",
    "    \n",
    "    '''Step 1''' \n",
    "    rootFolder = mainFolderSki\n",
    "    inputFolder = os.path.join(rootFolder,'input')\n",
    "    ablationFolder = os.path.join(inputFolder, 'Ablation')\n",
    "    accumulationFolder = os.path.join(inputFolder, 'Accumulation')\n",
    "    climate_ref_Folder = os.path.join(inputFolder, 'Climate_ref')\n",
    "    \n",
    "    \n",
    "    '''Step 2: Reading all files names inside the Ablation, Accumulation, and Climate folders'''  \n",
    "    ablationFiles = []\n",
    "    for filename in os.walk(ablationFolder):\n",
    "        ablationFiles = filename[2]\n",
    "    \n",
    "    accumulationFiles = list()\n",
    "    for filename in os.walk(accumulationFolder):\n",
    "        accumulationFiles = filename[2]\n",
    "\n",
    "    climate_ref_Files = list()\n",
    "    for filename in os.walk(climate_ref_Folder):\n",
    "        climate_ref_Files = filename[2]\n",
    "        \n",
    "        \n",
    "    '''Step 3: Reading files inside ablation folder '''\n",
    "    os.chdir(ablationFolder)\n",
    "    with open(ablationFiles[0], 'r') as file:\n",
    "        FM1 = file.read()\n",
    "    with open(ablationFiles[1], 'r') as file:\n",
    "        Ipot1 = file.read()\n",
    "    with open(ablationFiles[2], 'r') as file:\n",
    "        Rsnow1 = file.read()\n",
    "        \n",
    "        \n",
    "    '''Step 4: Reading the lines of files inside ablation folder'''\n",
    "    FM1 = FM1.replace('\\n', '\\t')\n",
    "    FM1 = FM1.split('\\t')\n",
    "    Ipot1 = Ipot1.replace('\\n', '\\t').split('\\t')\n",
    "    Rsnow1 = Rsnow1.replace('\\n', '\\t').split('\\t')\n",
    "        \n",
    "        \n",
    "    '''Step 5: Reading the lines of files inside accumulation folder''' \n",
    "    os.chdir(accumulationFolder)\n",
    "    \n",
    "    with open(accumulationFiles[0], 'r') as file:\n",
    "        cPrec = file.read()\n",
    "    with open(accumulationFiles[1], 'r') as file:\n",
    "        dSnow1 = file.read()\n",
    "    \n",
    "    cPrec = cPrec.replace('\\n', '\\t')\n",
    "    cPrec = cPrec.split('\\t')\n",
    "    dSnow1 = dSnow1.replace('\\n', '\\t').split('\\t')\n",
    "    \n",
    "    \n",
    "    '''Step 6: Reading the lines of files inside climate folder''' \n",
    "    os.chdir(climate_ref_Folder)\n",
    "    \n",
    "    with open('pcp.txt', 'r') as file:\n",
    "        pcpData = file.read()\n",
    "    with open('tmp.txt', 'r') as file:\n",
    "        tmpData = file.read()\n",
    "        \n",
    "    pcpData = pcpData.split('\\n')\n",
    "    \n",
    "    for i in range(len(pcpData)):\n",
    "        pcpData[i] = pcpData[i].split(',')\n",
    "        \n",
    "        \n",
    "    '''Step 7: Initialazing the input dictionary of climate stations which holds the information of accumulation\n",
    "     and ablation, and etc of the stations''' \n",
    "    nameStn = []\n",
    "    for file in climate_ref_Files:\n",
    "        if 'p.csv' in file:\n",
    "            #nameStn.append('n_' + file[-25: -5])\n",
    "            nameStn.append(file[-25: -5])\n",
    "\n",
    "    stnDicts = []\n",
    "    for i in range(len(nameStn)):\n",
    "        stnDicts.append(create_dic(nameStn[i]))\n",
    "    \n",
    "    \n",
    "    '''Step 8: Assigning the file names to the dictionary'''\n",
    "    for i in range (len(nameStn)):\n",
    "        stnDicts[i]['fileName'] = nameStn[i]\n",
    "\n",
    "    \n",
    "    '''Step 9: Assigning the accumulation and ablation values'''\n",
    "    for stnDict in stnDicts:\n",
    "        for i, element in enumerate(FM1):\n",
    "            if element == stnDict['fileName'][:]:\n",
    "            #if element == stnDict['fileName'][2:]:\n",
    "                stnDict['fM'] = FM1[i+1]\n",
    "                \n",
    "        for i, element in enumerate(Ipot1):\n",
    "            if element == stnDict['fileName'][:]:\n",
    "            #if element == stnDict['fileName'][2:]:\n",
    "                stnDict['iPot'] = Ipot1[i+1]\n",
    "\n",
    "        for i, element in enumerate(Rsnow1):\n",
    "            if element == stnDict['fileName'][:]:\n",
    "            #if element == stnDict['fileName'][2:]:  \n",
    "                stnDict['rSnow'] = Rsnow1[i+1]\n",
    "\n",
    "        for i, element in enumerate(dSnow1):\n",
    "            if element == stnDict['fileName'][:]:\n",
    "            #if element == stnDict['fileName'][2:]:\n",
    "                stnDict['dSnow'] = dSnow1[i+1]\n",
    "\n",
    "        for i, element in enumerate(cPrec):\n",
    "            stnDict['cPrec'] = cPrec[1]\n",
    "            stnDict['dP'] = cPrec[3]\n",
    "            \n",
    "    '''Step 10: Assigning the elevation, Lat and long to the dictionaries'''\n",
    "    for i in range(len(stnDicts)):\n",
    "        for j in range(1, len(pcpData)):\n",
    "            \n",
    "            #if pcpData[j][1][2:-1] == stnDicts[i]['fileName'][2:]:\n",
    "            if pcpData[j][1][:-1] == stnDicts[i]['fileName'][:]:\n",
    "                stnDicts[i]['lat']= pcpData[j][2]\n",
    "                stnDicts[i]['long']= pcpData[j][3]\n",
    "                stnDicts[i]['elev']= pcpData[j][4]\n",
    "                \n",
    "    return stnDicts, inputFolder, ablationFolder, accumulationFolder, climate_ref_Folder"
   ]
  },
  {
   "cell_type": "markdown",
   "metadata": {},
   "source": [
    "## Step 3: Main Snow Model"
   ]
  },
  {
   "cell_type": "markdown",
   "metadata": {},
   "source": [
    "#### S3.1 *Initializiing the main dictionary for a case study*"
   ]
  },
  {
   "cell_type": "code",
   "execution_count": 8,
   "metadata": {},
   "outputs": [],
   "source": [
    "caseStudyStns = {}\n",
    "inputFolder = ''\n",
    "ablationFolder = ''\n",
    "accumulationFolder = ''\n",
    "climateFolder = ''\n",
    "#root = 'C:/Users/ashrafse/SA_2/snowModelUZH/case2_Atzmaening'\n",
    "#root = 'C:/Users/ashrafse/SA_2/snowModelUZH/case6_davos_elevations'\n",
    "root = r'C:\\Users\\ashrafse\\SA_2\\snowModelUZH\\case3_hoch-ybrig_v3_2'\n",
    "\n",
    "## calling the function with multiple return values\n",
    "caseStudyStns, inputFolder, ablationFolder, accumulationFolder, climateFolder = initialize_input_dict(root)"
   ]
  },
  {
   "cell_type": "markdown",
   "metadata": {},
   "source": [
    "#### S3.2 *Check if we have initialized correctly*"
   ]
  },
  {
   "cell_type": "code",
   "execution_count": 9,
   "metadata": {},
   "outputs": [
    {
     "data": {
      "text/plain": [
       "'C:\\\\Users\\\\ashrafse\\\\SA_2\\\\snowModelUZH\\\\case3_hoch-ybrig_v3_2\\\\input\\\\Climate_ref'"
      ]
     },
     "execution_count": 9,
     "metadata": {},
     "output_type": "execute_result"
    }
   ],
   "source": [
    "climateFolder"
   ]
  },
  {
   "cell_type": "code",
   "execution_count": 10,
   "metadata": {
    "scrolled": true
   },
   "outputs": [
    {
     "data": {
      "text/plain": [
       "[{'fM': '1.012',\n",
       "  'iPot': '1000',\n",
       "  'rSnow': '0.5',\n",
       "  'dSnow': '0.5',\n",
       "  'cPrec': '0',\n",
       "  'dP': '0',\n",
       "  'elev': '1755',\n",
       "  'lat': '47.00',\n",
       "  'long': '8.7708333',\n",
       "  'fileName': '47-0000000_8-7708333'}]"
      ]
     },
     "execution_count": 10,
     "metadata": {},
     "output_type": "execute_result"
    }
   ],
   "source": [
    "caseStudyStns"
   ]
  },
  {
   "cell_type": "code",
   "execution_count": 11,
   "metadata": {},
   "outputs": [
    {
     "data": {
      "text/plain": [
       "'1.012'"
      ]
     },
     "execution_count": 11,
     "metadata": {},
     "output_type": "execute_result"
    }
   ],
   "source": [
    "caseStudyStns[0].get(\"fM\")"
   ]
  },
  {
   "cell_type": "markdown",
   "metadata": {},
   "source": [
    "#### defing the X variables which control modeling (hyper parameter)"
   ]
  },
  {
   "cell_type": "code",
   "execution_count": 12,
   "metadata": {},
   "outputs": [],
   "source": [
    "X2 = caseStudyStns[0].get(\"fM\") # change 0 to i for all stations\n",
    "X3 = caseStudyStns[0].get(\"iPot\")\n",
    "X4 =  caseStudyStns[0].get(\"rSnow\")"
   ]
  },
  {
   "cell_type": "code",
   "execution_count": 13,
   "metadata": {},
   "outputs": [
    {
     "name": "stdout",
     "output_type": "stream",
     "text": [
      "1.012\n",
      "1000\n",
      "0.5\n"
     ]
    }
   ],
   "source": [
    "print(X2)\n",
    "print(X3)\n",
    "print(X4)"
   ]
  },
  {
   "cell_type": "markdown",
   "metadata": {},
   "source": [
    "#### S3.3 *Function that runs the main model*"
   ]
  },
  {
   "cell_type": "code",
   "execution_count": 14,
   "metadata": {},
   "outputs": [],
   "source": [
    "## 1st column as index: makaing date from 01 01 1981 to 2099 12 31\n",
    "from datetime import timedelta, date\n",
    "\n",
    "def daterange(start_date, end_date):\n",
    "    for n in range(int ((end_date - start_date ).days + 1)):\n",
    "        yield start_date + timedelta(n)"
   ]
  },
  {
   "cell_type": "code",
   "execution_count": 15,
   "metadata": {},
   "outputs": [],
   "source": [
    "def policy_release(x1):\n",
    "    return x1"
   ]
  },
  {
   "cell_type": "code",
   "execution_count": 37,
   "metadata": {},
   "outputs": [],
   "source": [
    "def snow_Model (x1 = 250, Xfactor1 = None,  X2 = None, X3 = None, X4 = None, X5= 8):\n",
    "\n",
    "    \n",
    "    ''' VERY IMPORTANT --- Conroling the randomness --- VERY IMPORTANT'''\n",
    "    os.chdir(climateFolder)\n",
    "    fnames = os.listdir()\n",
    "    #randomness_pcp_tmp(fnames, Xfactor1)\n",
    "    \n",
    "    print('Snow_Model: Matching the station names values with CSV files!')   \n",
    "    '''Matching the station names values in the dictionary of stations with CSV files in Climate folder of the case Study'''\n",
    "    pcpCaseStudy = []\n",
    "    tmpCaseStudy = []\n",
    "\n",
    "    for i in range(len(caseStudyStns)):\n",
    "        pcpCaseStudy.append(os.path.join(climateFolder, caseStudyStns[i]['fileName'] + 'p.csv'))\n",
    "        tmpCaseStudy.append(os.path.join(climateFolder, caseStudyStns[i]['fileName'] + 't.csv'))\n",
    "    \n",
    "\n",
    "    print('Snow_Model: Building a database for each csv file (tmp and pcp)!')\n",
    "    \n",
    "    '''Step 6: building a database for each precipitation and temperature file in Climate folder and saving them in a list'''\n",
    "    '''6.1 reading the csv files as databases'''\n",
    "    dfpcp = [None for _ in range(len(pcpCaseStudy))]\n",
    "    dftmp = [None for _ in range(len(tmpCaseStudy))]\n",
    "    for i in range(len(pcpCaseStudy)):\n",
    "        dfpcp[i] = pd.read_csv(pcpCaseStudy[i])\n",
    "        dftmp[i] = pd.read_csv(tmpCaseStudy[i])\n",
    "        \n",
    "    '''6.2 making a header for output files'''\n",
    "    dfpcpCol = dfpcp[0].columns\n",
    "    dftmpCol = dftmp[0].columns\n",
    "    \n",
    "    '''6.3 defining the length of simulations and scenarios'''\n",
    "    scenariosLength = len(dfpcpCol)\n",
    "    simulationLength = len(dftmp[0][dftmpCol[0]]) - 1\n",
    "        \n",
    "    \n",
    "    '''Reading the beginning and end of the simulation''' \n",
    "    start_date = date(1981, 1, 1)\n",
    "    end_date = date(2099, 12, 31)\n",
    "    dateList = []\n",
    "    for single_date in daterange(start_date, end_date):\n",
    "        dateList.append(single_date.strftime(\"%m/%d/%Y\"))\n",
    "\n",
    "    seasonList = []\n",
    "    for n in range (1981, 2100, 1):\n",
    "        seasonList.append(str(n))\n",
    "    \n",
    "    \n",
    "    print('Snow_Model: Running the model, daily output!')\n",
    "\n",
    "    '''PART 1 : daily outputs'''\n",
    "    '''Running the model for each climate station:'''\n",
    "    for k in range(len(caseStudyStns)):\n",
    "        \n",
    "        '''making a header for output files'''\n",
    "        dfpcpCol = dfpcp[k].columns\n",
    "        dftmpCol = dftmp[k].columns\n",
    "\n",
    "\n",
    "        '''defining the length of simulations and scenarios'''\n",
    "        scenariosLength = len(dfpcpCol)\n",
    "        simulationLength = len(dftmp[0][dftmpCol[0]]) - 1\n",
    "\n",
    "\n",
    "        '''declaring the initial arrays'''\n",
    "        accumulation = [0 for _ in range(simulationLength)]\n",
    "        ablation =  [0 for _ in range(simulationLength)]\n",
    "        snowDeposite = [0 for _ in range(simulationLength)]\n",
    "        total = np.zeros([simulationLength, 3*scenariosLength])\n",
    "\n",
    "\n",
    "        '''Running the model for each climate scenario:'''\n",
    "        for j in range(len(dfpcpCol)):\n",
    "            ## Reading the information and inputs of the first day of simulation\n",
    "            todayPCP = dfpcp[k][dfpcpCol[j]].iloc[1] if (dfpcp[k][dfpcpCol[j]].iloc[1] != -99) else 0\n",
    "            todayTMPMAX = round(dftmp[k][dftmpCol[2*j]].iloc[1],2) if(dftmp[k][dftmpCol[2*j]].iloc[1] != -99) else 0\n",
    "            todayTMPMIN = round(dftmp[k][dftmpCol[2*j+1]].iloc[1],2) if(dftmp[k][dftmpCol[2*j+1]].iloc[1] != -99) else 0\n",
    "            todayTMPAVE = round((todayTMPMAX+todayTMPMIN)/2,2) if((todayTMPMAX+todayTMPMIN)/2 != -99) else 0\n",
    "\n",
    "            A = policy_release(x1)\n",
    "            '''Accumulation for the first day:'''\n",
    "            if (todayTMPAVE) <= X5:\n",
    "                accumulation[0] = todayPCP *(1 + float(caseStudyStns[k]['cPrec']))*float(caseStudyStns[k]['dSnow'])*(1)\n",
    "\n",
    "            elif X5 -1 < (todayTMPAVE) <= X5 + 1:\n",
    "                accumulation[0] = todayPCP *(1 + float(caseStudyStns[k]['cPrec']))*float(caseStudyStns[k]['dSnow'])*float((X5 + 1 -todayTMPAVE)/2)\n",
    "\n",
    "            else: accumulation[0] = 0\n",
    "\n",
    "\n",
    "            '''Ablation for the first day:'''\n",
    "            if todayTMPAVE <= X5:\n",
    "                 ablation[0] = 0\n",
    "            else: \n",
    "                ablation[0] = (float(caseStudyStns[k]['fM']) + float(caseStudyStns[k]['rSnow'])*float(caseStudyStns[k]['iPot'])*0.001)*float(todayTMPAVE)*(1+0)\n",
    "\n",
    "            '''Main mass balance equation for the first day:'''\n",
    "            snowDeposite[0] = 0 if (0 + accumulation[0] - ablation[0]) < 0 else (0 + accumulation[0] - ablation[0])\n",
    "\n",
    "            \n",
    "            '''storing three values in a list for the first day'''\n",
    "            total[0,3*j+0] = round((accumulation[0] - ablation[0]), 2)\n",
    "            total[0,3*j+1] = round(snowDeposite[0], 2)\n",
    "            # total[0,3*j+2] = 1 if (total[0,3*j+1] > A) else 0\n",
    "            total[0,3*j+2] = 1 if (total[0,3*j+1] > A) else total[0,3*j+1] / A\n",
    "\n",
    "\n",
    "            '''For the second day to the end of simulation:'''\n",
    "            i = 0\n",
    "            for i in range(2, simulationLength + 1, 1):\n",
    "                '''# precipitation and temperature missing values were handled'''\n",
    "                todayPCP = dfpcp[k][dfpcpCol[j]].iloc[i] if (dfpcp[k][dfpcpCol[j]].iloc[i] != -99) else 0\n",
    "                todayTMPMAX = round(dftmp[k][dftmpCol[2*j]].iloc[i],2) if(dftmp[k][dftmpCol[2*j]].iloc[i] != -99) else 0\n",
    "                todayTMPMIN = round(dftmp[k][dftmpCol[2*j+1]].iloc[i],2) if(dftmp[k][dftmpCol[2*j+1]].iloc[i] != -99) else 0\n",
    "                todayTMPAVE = round((todayTMPMAX+todayTMPMIN)/2,2) if((todayTMPMAX+todayTMPMIN)/2 != -99) else 0\n",
    "\n",
    "                '''### Accumulation :'''\n",
    "                if(todayTMPAVE) <= X5:\n",
    "                    ##\n",
    "                    accumulation[i-1] = todayPCP *(1 + float(caseStudyStns[k]['cPrec']))*float(caseStudyStns[k]['dSnow'])*(1)\n",
    "\n",
    "                elif X5 -1 < (todayTMPAVE) <= X5 + 1:\n",
    "                    accumulation[i-1] = todayPCP *(1 + float(caseStudyStns[k]['cPrec']))*float(caseStudyStns[k]['dSnow'])*float((X5 + 1 -todayTMPAVE)/2)\n",
    "\n",
    "                else: accumulation[i-1] = 0\n",
    "\n",
    "                '''### Ablation :'''\n",
    "                if todayTMPAVE <= X5:\n",
    "                    ablation[i-1] = 0\n",
    "                else: \n",
    "                    ablation[i-1] = (float(caseStudyStns[k]['fM']) + float(caseStudyStns[k]['rSnow'])*float(caseStudyStns[k]['iPot'])*0.001)*float(todayTMPAVE)*(1+0)\n",
    "\n",
    "                '''### Main mass balance equation for second day to the end of simulation:'''\n",
    "                snowDeposite[i-1] = 0 if (snowDeposite[i-2] + accumulation[i-1] - ablation[i-1]) < 0 else (snowDeposite[i-2] + accumulation[i-1] - ablation[i-1])\n",
    "\n",
    "\n",
    "                '''### storing three values in a list''' \n",
    "                total[i-1,3*j+0] = round((accumulation[i-1] - ablation[i-1]) , 2)\n",
    "                total[i-1,3*j+1] = round(snowDeposite[i-1], 2)\n",
    "                #total[i-1,3*j+2] = 1 if (total[i-1,3*j+1] > A) else 0\n",
    "                total[i-1,3*j+2] = 1 if (total[i-1,3*j+1] > A) else total[i-1,3*j+1] / A\n",
    "\n",
    "\n",
    "        '''### Saving the output of total list in a csv file in a specific path'''\n",
    "\n",
    "        ## 1st row as the column names:\n",
    "        columnsDF = [] \n",
    "        for col in dfpcpCol:\n",
    "            columnsDF.append('SnowAmount_' + col)\n",
    "            columnsDF.append('TotalSnowAmount_' + col)\n",
    "            columnsDF.append('isOverSnow_' + col)\n",
    "\n",
    "        columnsDF0 = ['DATE']\n",
    "        dfnew0 = pd.DataFrame(dateList, columns = columnsDF0)\n",
    "        dfnew = pd.DataFrame(total, columns = columnsDF)\n",
    "        df1 = pd.concat([dfnew0, dfnew], axis=1, sort=False)\n",
    "\n",
    "        if os.path.isdir(os.path.join(root, 'Outputs_py')):\n",
    "            pass\n",
    "        else: os.mkdir(os.path.join(root, 'Outputs_py'))\n",
    "\n",
    "        outfolder =os.path.join(root, 'Outputs_py') \n",
    "        outfileName = 'Total_daily_' + caseStudyStns[k]['fileName'] + '.csv'\n",
    "        outputFile = os.path.join(outfolder, outfileName )\n",
    "        df1.to_csv(outputFile, index = False)\n",
    "        #return df1\n",
    "           \n",
    "        \n",
    "        '''##### PART 2 seasonal outputs#####'''\n",
    "        print('Snow_Model: Running the model, seasonal outputs, reading files!')\n",
    "        \n",
    "        ####total_Daily_Files = list()\n",
    "        ####for filename in os.walk(outfolder):\n",
    "          ####  total_Daily_Files = filename[2] ######## I should avoid having totoal\n",
    "            \n",
    "            \n",
    "        #### 2020/06/10\n",
    "        total_Daily_FilesAll = list()\n",
    "        total_Daily_Files = []\n",
    "        for filename in os.walk(outfolder):\n",
    "            total_Daily_FilesAll = filename[2]\n",
    "\n",
    "        for bIndex in range (len(total_Daily_FilesAll)):\n",
    "            if 'season' in total_Daily_FilesAll[bIndex]:\n",
    "                print(total_Daily_FilesAll[bIndex])\n",
    "            else:\n",
    "                total_Daily_Files.append(total_Daily_FilesAll[bIndex])\n",
    "                            \n",
    "        \n",
    "        '''##get just total nor existing seasonal...'''\n",
    "        totalFiles = []\n",
    "        for i in range(len(total_Daily_Files)):\n",
    "            totalFiles.append(os.path.join(outfolder, total_Daily_Files[i]))\n",
    "        \n",
    "        totalFiles = []\n",
    "        for i in range(len(total_Daily_Files)):\n",
    "            if 'season' in total_Daily_Files[i]:\n",
    "                continue\n",
    "            else: totalFiles.append(os.path.join(outfolder, total_Daily_Files[i]))\n",
    "                \n",
    "        print('Snow_Model: Running the model, seasonal outputs analysis!')\n",
    "        dfSeason = [ None for _ in range(len(totalFiles))]\n",
    "        for i in range(len(totalFiles)):\n",
    "            dfSeason[i] = pd.read_csv(totalFiles[i], low_memory=False)\n",
    "\n",
    "            start_date = date(1981, 1, 2)\n",
    "            end_date = date(2099, 12, 31)\n",
    "            dateList = []\n",
    "            for single_date in daterange(start_date, end_date):\n",
    "                dateList.append(single_date.strftime(\"%m/%d/%Y\"))\n",
    "\n",
    "            start_season = []\n",
    "            end_season = []\n",
    "\n",
    "            for pp in range (1981, 2099, 1):\n",
    "                start_season.append(date(pp, 11, 1))\n",
    "                end_season.append(date(pp+1, 4, 30))\n",
    "\n",
    "            df2 = dfSeason[i]\n",
    "            df2.set_index('DATE', inplace = True)\n",
    "            df2Col = df2.columns\n",
    "\n",
    "            df2ColCal = []\n",
    "            for m in range(68):\n",
    "                df2ColCal.append(df2Col[3*m+2])\n",
    "\n",
    "            sumGoodCondition = np.zeros([len(start_season), len(df2ColCal)])\n",
    "            sumRows = np.zeros(len(df2ColCal))  ### SAEEEDDD  2020/06/11\n",
    "\n",
    "\n",
    "            for j in range(len(df2ColCal)):\n",
    "                for k in range(len(start_season)):\n",
    "                #for i in range(3):\n",
    "                    start_date = start_season[k]\n",
    "                    end_date = end_season[k]\n",
    "                        #start_date = date(1981, 1, 2)\n",
    "                        #end_date = date(1981, 1, 10)\n",
    "                    for single_date in daterange(start_date, end_date):\n",
    "                        sumGoodCondition[k,j] += df2[df2ColCal[j]].loc[single_date.strftime(\"%m/%d/%Y\")]\n",
    "                    sumRows[j] +=  sumGoodCondition[k,j] ### SAEEEDDD  2020/06/11\n",
    "            \n",
    "            AveragesumRows = np.average(sumRows/len(df2ColCal))\n",
    "            df3 = pd.DataFrame(sumGoodCondition, columns = df2ColCal)\n",
    "\n",
    "\n",
    "            firstCol = []\n",
    "            for o in range (len(seasonList)-1):\n",
    "                firstCol.append(seasonList[o] +'-' + seasonList[o+1])\n",
    "\n",
    "            columnsDF1 = ['Season']\n",
    "            dfnew0 = pd.DataFrame(firstCol, columns = columnsDF1)\n",
    "\n",
    "            dfFinalSeason = pd.concat([dfnew0, df3], axis=1, sort=False)\n",
    "\n",
    "            \n",
    "            #outfileNameSeason = 'season_' + total_Daily_Files[i]\n",
    "            #outputFile = os.path.join(outfolder, outfileNameSeason)\n",
    "            #dfFinalSeason.to_csv(outputFile, index = False)\n",
    "            \n",
    "            \n",
    "            if os.path.isdir(os.path.join(root, 'outSeason')):\n",
    "                pass\n",
    "            else: \n",
    "                os.mkdir(os.path.join(root, 'outSeason'))\n",
    "            \n",
    "            outfileNameSeason = 'season_' + total_Daily_Files[i]\n",
    "            outFolderSeason = os.path.join(root, 'outSeason')\n",
    "            outputFileSeason = os.path.join(outFolderSeason, outfileNameSeason)\n",
    "            \n",
    "            outFilesFinal = []\n",
    "            for filename in os.walk(outFolderSeason):\n",
    "                outFilesFinal = filename[2]\n",
    "                iii = len(outFilesFinal)\n",
    "                if os.path.isfile(outputFileSeason):\n",
    "                    newOutFileNameSeason = outputFileSeason[0 : -4] + '_' + str(iii) + '.csv'\n",
    "                    dfFinalSeason.to_csv(newOutFileNameSeason, index = False)\n",
    "                else: \n",
    "                    dfFinalSeason.to_csv(outputFileSeason, index = False)\n",
    "            \n",
    "            \n",
    "        #return df1, outfolder, dfFinalSeason\n",
    "        #return {'y' : x1 * Xfactor1 * X2}\n",
    "        return {'y' : AveragesumRows}"
   ]
  },
  {
   "cell_type": "code",
   "execution_count": 38,
   "metadata": {},
   "outputs": [],
   "source": [
    "def policy_release(x1):\n",
    "    at = x1\n",
    "    return at\n",
    "\n",
    "def some_model(x1=1, x2=None, x3=None):\n",
    "    A = policy_release(x1)\n",
    "    return {'y':x2*x3+ A }"
   ]
  },
  {
   "cell_type": "markdown",
   "metadata": {},
   "source": [
    "## Step 4: EMA_Workbench connector"
   ]
  },
  {
   "cell_type": "code",
   "execution_count": 39,
   "metadata": {},
   "outputs": [],
   "source": [
    "'''\n",
    "Created on 20 dec. 2010\n",
    "\n",
    "This file illustrated the use the EMA classes for a contrived example\n",
    "It's main purpose has been to test the parallel processing functionality\n",
    "\n",
    ".. codeauthor:: jhkwakkel <j.h.kwakkel (at) tudelft (dot) nl>\n",
    "'''\n",
    "from __future__ import (absolute_import, print_function, division,\n",
    "                        unicode_literals)\n",
    "\n",
    "from ema_workbench import (Model, RealParameter, ScalarOutcome, ema_logging,\n",
    "                           perform_experiments)"
   ]
  },
  {
   "cell_type": "code",
   "execution_count": 41,
   "metadata": {},
   "outputs": [
    {
     "name": "stderr",
     "output_type": "stream",
     "text": [
      "[EMA.ema_workbench.em_framework.evaluators/INFO/MainProcess] performing 1 scenarios * 1 policies * 1 model(s) = 1 experiments\n",
      "[EMA.ema_workbench.em_framework.evaluators/INFO/MainProcess] performing experiments sequentially\n"
     ]
    },
    {
     "name": "stdout",
     "output_type": "stream",
     "text": [
      "Snow_Model: Matching the station names values with CSV files!\n",
      "Snow_Model: Building a database for each csv file (tmp and pcp)!\n",
      "Snow_Model: Running the model, daily output!\n",
      "Snow_Model: Running the model, seasonal outputs, reading files!\n",
      "Snow_Model: Running the model, seasonal outputs analysis!\n"
     ]
    },
    {
     "name": "stderr",
     "output_type": "stream",
     "text": [
      "[EMA.ema_workbench.em_framework.callbacks/INFO/MainProcess] 1 cases completed\n",
      "[EMA.ema_workbench.em_framework.evaluators/INFO/MainProcess] experiments finished\n"
     ]
    }
   ],
   "source": [
    "if __name__ == '__main__':\n",
    "    ema_logging.LOG_FORMAT = '[%(name)s/%(levelname)s/%(processName)s] %(message)s'\n",
    "    ema_logging.log_to_stderr(ema_logging.INFO)\n",
    "\n",
    "    #model = Model('simpleModel', function=some_model)  # instantiate the model\n",
    "    model = Model('UZHModel', function = snow_Model)  # instantiate the model\n",
    "    #model1 = Model('simpleModel', function = my_model11)\n",
    "    \n",
    "    \n",
    "    # specify uncertainties\n",
    "    #model.uncertainties = [RealParameter(\"x1\", 100.0, 300.0)]\n",
    "    \n",
    "    #model1.uncertainties = [RealParameter(\"X1\", -0.01, 0.01),\n",
    "     #                       RealParameter(\"X1factor\", 100.0, 300.0),\n",
    "      #                      RealParameter(\"X2\", -0.01, 0.01),\n",
    "       #                    ]\n",
    "    \n",
    "    model.uncertainties = [RealParameter(\"Xfactor1\", 4, 10),\n",
    "                           RealParameter(\"X2\", 1.01, 2.01),\n",
    "                           RealParameter(\"X3\", 900, 1100),\n",
    "                           RealParameter(\"X4\", 0.4, 0.6),\n",
    "                           RealParameter(\"X5\", 5.5, 6.5)]\n",
    "    \n",
    "    model.levers = [RealParameter(\"x1\", 280.0, 300.0)]\n",
    "   \n",
    "\n",
    "    # specify outcomes\n",
    "    model.outcomes = [ScalarOutcome('y')]\n",
    "\n",
    "    results = perform_experiments(model, 1, 1)"
   ]
  },
  {
   "cell_type": "code",
   "execution_count": 43,
   "metadata": {},
   "outputs": [
    {
     "data": {
      "text/plain": [
       "(         X2           X3        X4        X5  Xfactor1          x1 scenario  \\\n",
       " 0  1.514419  1070.840055  0.552579  6.324835  4.609777  293.807359        2   \n",
       " \n",
       "   policy     model  \n",
       " 0      2  UZHModel  , {'y': array([159.46507156])})"
      ]
     },
     "execution_count": 43,
     "metadata": {},
     "output_type": "execute_result"
    }
   ],
   "source": [
    "results"
   ]
  },
  {
   "cell_type": "markdown",
   "metadata": {},
   "source": [
    "## Step 5: Visualization of the EMA_Workbench Results"
   ]
  },
  {
   "cell_type": "code",
   "execution_count": 1,
   "metadata": {},
   "outputs": [],
   "source": [
    "inputFileCH2018 = r'C:\\Users\\ashrafse\\SA_2\\snowModelUZH\\case3_hoch-ybrig_v3_2\\outSeason_ch2018_v1\\season_Total_daily_47-0000000_8-7708333.csv'"
   ]
  },
  {
   "cell_type": "code",
   "execution_count": 4,
   "metadata": {},
   "outputs": [],
   "source": [
    "df_sum_ch2018 = pd.read_csv(inputFileCH2018)"
   ]
  },
  {
   "cell_type": "code",
   "execution_count": 5,
   "metadata": {},
   "outputs": [
    {
     "data": {
      "text/html": [
       "<div>\n",
       "<style scoped>\n",
       "    .dataframe tbody tr th:only-of-type {\n",
       "        vertical-align: middle;\n",
       "    }\n",
       "\n",
       "    .dataframe tbody tr th {\n",
       "        vertical-align: top;\n",
       "    }\n",
       "\n",
       "    .dataframe thead th {\n",
       "        text-align: right;\n",
       "    }\n",
       "</style>\n",
       "<table border=\"1\" class=\"dataframe\">\n",
       "  <thead>\n",
       "    <tr style=\"text-align: right;\">\n",
       "      <th></th>\n",
       "      <th>Season</th>\n",
       "      <th>isOverSnow_CLMCOM-CCLM4-ECEARTH-EUR11-RCP45-pcp</th>\n",
       "      <th>isOverSnow_CLMCOM-CCLM4-ECEARTH-EUR11-RCP85-pcp</th>\n",
       "      <th>isOverSnow_CLMCOM-CCLM4-HADGEM-EUR11-RCP45-pcp</th>\n",
       "      <th>isOverSnow_CLMCOM-CCLM4-HADGEM-EUR11-RCP85-pcp</th>\n",
       "      <th>isOverSnow_CLMCOM-CCLM4-HADGEM-EUR44-RCP85-pcp</th>\n",
       "      <th>isOverSnow_CLMCOM-CCLM4-MPIESM-EUR11-RCP45-pcp</th>\n",
       "      <th>isOverSnow_CLMCOM-CCLM4-MPIESM-EUR11-RCP85-pcp</th>\n",
       "      <th>isOverSnow_CLMCOM-CCLM4-MPIESM-EUR44-RCP45-pcp</th>\n",
       "      <th>isOverSnow_CLMCOM-CCLM4-MPIESM-EUR44-RCP85-pcp</th>\n",
       "      <th>...</th>\n",
       "      <th>isOverSnow_SMHI-RCA-MIROC-EUR44-RCP45-pcp</th>\n",
       "      <th>isOverSnow_SMHI-RCA-MIROC-EUR44-RCP85-pcp</th>\n",
       "      <th>isOverSnow_SMHI-RCA-MPIESM-EUR11-RCP45-pcp</th>\n",
       "      <th>isOverSnow_SMHI-RCA-MPIESM-EUR11-RCP85-pcp</th>\n",
       "      <th>isOverSnow_SMHI-RCA-MPIESM-EUR44-RCP26-pcp</th>\n",
       "      <th>isOverSnow_SMHI-RCA-MPIESM-EUR44-RCP45-pcp</th>\n",
       "      <th>isOverSnow_SMHI-RCA-MPIESM-EUR44-RCP85-pcp</th>\n",
       "      <th>isOverSnow_SMHI-RCA-NORESM-EUR44-RCP26-pcp</th>\n",
       "      <th>isOverSnow_SMHI-RCA-NORESM-EUR44-RCP45-pcp</th>\n",
       "      <th>isOverSnow_SMHI-RCA-NORESM-EUR44-RCP85-pcp</th>\n",
       "    </tr>\n",
       "  </thead>\n",
       "  <tbody>\n",
       "    <tr>\n",
       "      <th>0</th>\n",
       "      <td>1981-1982</td>\n",
       "      <td>53.980098</td>\n",
       "      <td>56.401446</td>\n",
       "      <td>86.452974</td>\n",
       "      <td>89.276116</td>\n",
       "      <td>93.167217</td>\n",
       "      <td>61.945283</td>\n",
       "      <td>63.704871</td>\n",
       "      <td>68.034953</td>\n",
       "      <td>69.505066</td>\n",
       "      <td>...</td>\n",
       "      <td>125.881757</td>\n",
       "      <td>127.149731</td>\n",
       "      <td>80.852770</td>\n",
       "      <td>80.796203</td>\n",
       "      <td>58.708332</td>\n",
       "      <td>60.955621</td>\n",
       "      <td>59.868072</td>\n",
       "      <td>124.826010</td>\n",
       "      <td>123.734321</td>\n",
       "      <td>123.212780</td>\n",
       "    </tr>\n",
       "    <tr>\n",
       "      <th>1</th>\n",
       "      <td>1982-1983</td>\n",
       "      <td>153.012070</td>\n",
       "      <td>152.969423</td>\n",
       "      <td>156.040022</td>\n",
       "      <td>156.487068</td>\n",
       "      <td>144.199294</td>\n",
       "      <td>87.849991</td>\n",
       "      <td>88.971924</td>\n",
       "      <td>83.327719</td>\n",
       "      <td>84.210849</td>\n",
       "      <td>...</td>\n",
       "      <td>93.695917</td>\n",
       "      <td>95.677250</td>\n",
       "      <td>78.253649</td>\n",
       "      <td>78.340118</td>\n",
       "      <td>101.681629</td>\n",
       "      <td>102.169228</td>\n",
       "      <td>102.886807</td>\n",
       "      <td>68.672786</td>\n",
       "      <td>64.590247</td>\n",
       "      <td>65.685251</td>\n",
       "    </tr>\n",
       "    <tr>\n",
       "      <th>2</th>\n",
       "      <td>1983-1984</td>\n",
       "      <td>95.459881</td>\n",
       "      <td>93.859002</td>\n",
       "      <td>112.972420</td>\n",
       "      <td>110.053775</td>\n",
       "      <td>115.907035</td>\n",
       "      <td>128.078645</td>\n",
       "      <td>130.393427</td>\n",
       "      <td>150.472815</td>\n",
       "      <td>151.407884</td>\n",
       "      <td>...</td>\n",
       "      <td>152.261891</td>\n",
       "      <td>152.441261</td>\n",
       "      <td>142.873931</td>\n",
       "      <td>144.681297</td>\n",
       "      <td>161.516569</td>\n",
       "      <td>162.883679</td>\n",
       "      <td>162.886290</td>\n",
       "      <td>125.367427</td>\n",
       "      <td>123.147373</td>\n",
       "      <td>121.590990</td>\n",
       "    </tr>\n",
       "    <tr>\n",
       "      <th>3</th>\n",
       "      <td>1984-1985</td>\n",
       "      <td>160.236423</td>\n",
       "      <td>160.288668</td>\n",
       "      <td>73.404560</td>\n",
       "      <td>74.719027</td>\n",
       "      <td>90.174449</td>\n",
       "      <td>127.135930</td>\n",
       "      <td>129.288291</td>\n",
       "      <td>108.966790</td>\n",
       "      <td>95.022535</td>\n",
       "      <td>...</td>\n",
       "      <td>122.599280</td>\n",
       "      <td>125.127245</td>\n",
       "      <td>97.430676</td>\n",
       "      <td>97.415368</td>\n",
       "      <td>69.067331</td>\n",
       "      <td>72.621564</td>\n",
       "      <td>72.554582</td>\n",
       "      <td>108.149351</td>\n",
       "      <td>106.887401</td>\n",
       "      <td>106.824503</td>\n",
       "    </tr>\n",
       "  </tbody>\n",
       "</table>\n",
       "<p>4 rows × 69 columns</p>\n",
       "</div>"
      ],
      "text/plain": [
       "      Season  isOverSnow_CLMCOM-CCLM4-ECEARTH-EUR11-RCP45-pcp  \\\n",
       "0  1981-1982                                        53.980098   \n",
       "1  1982-1983                                       153.012070   \n",
       "2  1983-1984                                        95.459881   \n",
       "3  1984-1985                                       160.236423   \n",
       "\n",
       "   isOverSnow_CLMCOM-CCLM4-ECEARTH-EUR11-RCP85-pcp  \\\n",
       "0                                        56.401446   \n",
       "1                                       152.969423   \n",
       "2                                        93.859002   \n",
       "3                                       160.288668   \n",
       "\n",
       "   isOverSnow_CLMCOM-CCLM4-HADGEM-EUR11-RCP45-pcp  \\\n",
       "0                                       86.452974   \n",
       "1                                      156.040022   \n",
       "2                                      112.972420   \n",
       "3                                       73.404560   \n",
       "\n",
       "   isOverSnow_CLMCOM-CCLM4-HADGEM-EUR11-RCP85-pcp  \\\n",
       "0                                       89.276116   \n",
       "1                                      156.487068   \n",
       "2                                      110.053775   \n",
       "3                                       74.719027   \n",
       "\n",
       "   isOverSnow_CLMCOM-CCLM4-HADGEM-EUR44-RCP85-pcp  \\\n",
       "0                                       93.167217   \n",
       "1                                      144.199294   \n",
       "2                                      115.907035   \n",
       "3                                       90.174449   \n",
       "\n",
       "   isOverSnow_CLMCOM-CCLM4-MPIESM-EUR11-RCP45-pcp  \\\n",
       "0                                       61.945283   \n",
       "1                                       87.849991   \n",
       "2                                      128.078645   \n",
       "3                                      127.135930   \n",
       "\n",
       "   isOverSnow_CLMCOM-CCLM4-MPIESM-EUR11-RCP85-pcp  \\\n",
       "0                                       63.704871   \n",
       "1                                       88.971924   \n",
       "2                                      130.393427   \n",
       "3                                      129.288291   \n",
       "\n",
       "   isOverSnow_CLMCOM-CCLM4-MPIESM-EUR44-RCP45-pcp  \\\n",
       "0                                       68.034953   \n",
       "1                                       83.327719   \n",
       "2                                      150.472815   \n",
       "3                                      108.966790   \n",
       "\n",
       "   isOverSnow_CLMCOM-CCLM4-MPIESM-EUR44-RCP85-pcp  ...  \\\n",
       "0                                       69.505066  ...   \n",
       "1                                       84.210849  ...   \n",
       "2                                      151.407884  ...   \n",
       "3                                       95.022535  ...   \n",
       "\n",
       "   isOverSnow_SMHI-RCA-MIROC-EUR44-RCP45-pcp  \\\n",
       "0                                 125.881757   \n",
       "1                                  93.695917   \n",
       "2                                 152.261891   \n",
       "3                                 122.599280   \n",
       "\n",
       "   isOverSnow_SMHI-RCA-MIROC-EUR44-RCP85-pcp  \\\n",
       "0                                 127.149731   \n",
       "1                                  95.677250   \n",
       "2                                 152.441261   \n",
       "3                                 125.127245   \n",
       "\n",
       "   isOverSnow_SMHI-RCA-MPIESM-EUR11-RCP45-pcp  \\\n",
       "0                                   80.852770   \n",
       "1                                   78.253649   \n",
       "2                                  142.873931   \n",
       "3                                   97.430676   \n",
       "\n",
       "   isOverSnow_SMHI-RCA-MPIESM-EUR11-RCP85-pcp  \\\n",
       "0                                   80.796203   \n",
       "1                                   78.340118   \n",
       "2                                  144.681297   \n",
       "3                                   97.415368   \n",
       "\n",
       "   isOverSnow_SMHI-RCA-MPIESM-EUR44-RCP26-pcp  \\\n",
       "0                                   58.708332   \n",
       "1                                  101.681629   \n",
       "2                                  161.516569   \n",
       "3                                   69.067331   \n",
       "\n",
       "   isOverSnow_SMHI-RCA-MPIESM-EUR44-RCP45-pcp  \\\n",
       "0                                   60.955621   \n",
       "1                                  102.169228   \n",
       "2                                  162.883679   \n",
       "3                                   72.621564   \n",
       "\n",
       "   isOverSnow_SMHI-RCA-MPIESM-EUR44-RCP85-pcp  \\\n",
       "0                                   59.868072   \n",
       "1                                  102.886807   \n",
       "2                                  162.886290   \n",
       "3                                   72.554582   \n",
       "\n",
       "   isOverSnow_SMHI-RCA-NORESM-EUR44-RCP26-pcp  \\\n",
       "0                                  124.826010   \n",
       "1                                   68.672786   \n",
       "2                                  125.367427   \n",
       "3                                  108.149351   \n",
       "\n",
       "   isOverSnow_SMHI-RCA-NORESM-EUR44-RCP45-pcp  \\\n",
       "0                                  123.734321   \n",
       "1                                   64.590247   \n",
       "2                                  123.147373   \n",
       "3                                  106.887401   \n",
       "\n",
       "   isOverSnow_SMHI-RCA-NORESM-EUR44-RCP85-pcp  \n",
       "0                                  123.212780  \n",
       "1                                   65.685251  \n",
       "2                                  121.590990  \n",
       "3                                  106.824503  \n",
       "\n",
       "[4 rows x 69 columns]"
      ]
     },
     "execution_count": 5,
     "metadata": {},
     "output_type": "execute_result"
    }
   ],
   "source": [
    "df_sum_ch2018.head(4)"
   ]
  },
  {
   "cell_type": "code",
   "execution_count": 6,
   "metadata": {},
   "outputs": [],
   "source": [
    "df_sum_ch2018_M = df_sum_ch2018.iloc[0: , 1:]\n",
    "\n",
    "df_sum_ch2018_Matrix = df_sum_ch2018_M.to_numpy()\n"
   ]
  },
  {
   "cell_type": "markdown",
   "metadata": {},
   "source": [
    "## All scenarios,  CH2018 case ( good snow conditions)"
   ]
  },
  {
   "cell_type": "code",
   "execution_count": 7,
   "metadata": {},
   "outputs": [],
   "source": [
    "df_sum_ch2018_M_Columns= df_sum_ch2018_M.columns"
   ]
  },
  {
   "cell_type": "code",
   "execution_count": 8,
   "metadata": {},
   "outputs": [
    {
     "data": {
      "text/plain": [
       "pandas.core.indexes.base.Index"
      ]
     },
     "execution_count": 8,
     "metadata": {},
     "output_type": "execute_result"
    }
   ],
   "source": [
    "type(df_sum_ch2018_M_Columns)"
   ]
  },
  {
   "cell_type": "code",
   "execution_count": 9,
   "metadata": {},
   "outputs": [],
   "source": [
    "a = np.zeros((118, 68))"
   ]
  },
  {
   "cell_type": "code",
   "execution_count": 10,
   "metadata": {},
   "outputs": [
    {
     "data": {
      "text/plain": [
       "array([[0., 0., 0., ..., 0., 0., 0.],\n",
       "       [0., 0., 0., ..., 0., 0., 0.],\n",
       "       [0., 0., 0., ..., 0., 0., 0.],\n",
       "       ...,\n",
       "       [0., 0., 0., ..., 0., 0., 0.],\n",
       "       [0., 0., 0., ..., 0., 0., 0.],\n",
       "       [0., 0., 0., ..., 0., 0., 0.]])"
      ]
     },
     "execution_count": 10,
     "metadata": {},
     "output_type": "execute_result"
    }
   ],
   "source": [
    "a"
   ]
  },
  {
   "cell_type": "code",
   "execution_count": 11,
   "metadata": {
    "scrolled": true
   },
   "outputs": [
    {
     "data": {
      "text/plain": [
       "68"
      ]
     },
     "execution_count": 11,
     "metadata": {},
     "output_type": "execute_result"
    }
   ],
   "source": [
    "len(df_sum_ch2018_M_Columns)"
   ]
  },
  {
   "cell_type": "code",
   "execution_count": 12,
   "metadata": {},
   "outputs": [
    {
     "data": {
      "text/plain": [
       "118"
      ]
     },
     "execution_count": 12,
     "metadata": {},
     "output_type": "execute_result"
    }
   ],
   "source": [
    "len(df_sum_ch2018_M[df_sum_ch2018_M_Columns[1]])"
   ]
  },
  {
   "cell_type": "code",
   "execution_count": 13,
   "metadata": {},
   "outputs": [
    {
     "data": {
      "text/plain": [
       "153.01206983813537"
      ]
     },
     "execution_count": 13,
     "metadata": {},
     "output_type": "execute_result"
    }
   ],
   "source": [
    "#df_sum_ch2018_M[1]\n",
    "df_sum_ch2018_M['isOverSnow_CLMCOM-CCLM4-ECEARTH-EUR11-RCP45-pcp'][1]"
   ]
  },
  {
   "cell_type": "code",
   "execution_count": 14,
   "metadata": {},
   "outputs": [],
   "source": [
    "for j in range (len(df_sum_ch2018_M_Columns)):\n",
    "    for i in range(len(df_sum_ch2018_M[df_sum_ch2018_M_Columns[1]])):\n",
    "        if df_sum_ch2018_M[df_sum_ch2018_M_Columns[j]][i] < 100:\n",
    "            a[i,j] = (df_sum_ch2018_M[df_sum_ch2018_M_Columns[j]][i] / 100) * 100\n",
    "        else:\n",
    "            a[i,j] = 100"
   ]
  },
  {
   "cell_type": "code",
   "execution_count": 15,
   "metadata": {},
   "outputs": [
    {
     "data": {
      "text/plain": [
       "array([[ 53.9800979 ,  56.40144638,  86.45297413, ..., 100.        ,\n",
       "        100.        , 100.        ],\n",
       "       [100.        , 100.        , 100.        , ...,  68.67278639,\n",
       "         64.5902474 ,  65.6852506 ],\n",
       "       [ 95.45988088,  93.85900199, 100.        , ..., 100.        ,\n",
       "        100.        , 100.        ],\n",
       "       ...,\n",
       "       [ 92.61010378, 100.        ,  87.3821345 , ..., 100.        ,\n",
       "         52.64098917,   4.01262924],\n",
       "       [ 88.95380866,  26.7153962 ,  51.34367461, ..., 100.        ,\n",
       "         48.12323303,  18.16618896],\n",
       "       [100.        ,  13.39500145,  65.95746979, ..., 100.        ,\n",
       "         51.12114977,  44.23384781]])"
      ]
     },
     "execution_count": 15,
     "metadata": {},
     "output_type": "execute_result"
    }
   ],
   "source": [
    "a"
   ]
  },
  {
   "cell_type": "code",
   "execution_count": 16,
   "metadata": {},
   "outputs": [
    {
     "data": {
      "image/png": "[encoded data removed]",
      "text/plain": [
       "<Figure size 684x540 with 2 Axes>"
      ]
     },
     "metadata": {
      "needs_background": "light"
     },
     "output_type": "display_data"
    }
   ],
   "source": [
    "fig, (ax3) = plt.subplots(1, 1, figsize=(9.5,7.5))\n",
    "\n",
    "c3 = ax3.pcolor(a)\n",
    "cb3 = fig.colorbar(c3)\n",
    "ax3.set_title('default: no edges')\n",
    "\n",
    "\n",
    "ax3.set_xlabel(\"Climate scenarios\")\n",
    "ax3.set_ylabel(\"Years of Simulation\")\n",
    "plt.title(\"Likelihood of survival (no tipping point occured) of a resort from {} untill the year {}\".format(1981, 2099))\n",
    "\n",
    "fig.tight_layout()\n",
    "plt.show()"
   ]
  },
  {
   "cell_type": "code",
   "execution_count": 17,
   "metadata": {},
   "outputs": [],
   "source": [
    "#Making filter for databases\n",
    "filt1 = df_sum_ch2018_M.columns.str.contains('RCP26')\n",
    "filt2 = df_sum_ch2018_M.columns.str.contains('RCP45')\n",
    "filt3 = df_sum_ch2018_M.columns.str.contains('RCP85')"
   ]
  },
  {
   "cell_type": "code",
   "execution_count": 18,
   "metadata": {},
   "outputs": [],
   "source": [
    "df1ch2018RCP26 = df_sum_ch2018_M.loc[:, filt1]\n",
    "df1ch2018RCP45 = df_sum_ch2018_M.loc[:, filt2]\n",
    "df1ch2018RCP85 = df_sum_ch2018_M.loc[:, filt3]"
   ]
  },
  {
   "cell_type": "code",
   "execution_count": 19,
   "metadata": {},
   "outputs": [],
   "source": [
    "df1ch2018RCP26Columns= df1ch2018RCP26.columns\n",
    "df1ch2018RCP45Columns= df1ch2018RCP45.columns\n",
    "df1ch2018RCP85Columns= df1ch2018RCP85.columns"
   ]
  },
  {
   "cell_type": "code",
   "execution_count": 20,
   "metadata": {},
   "outputs": [
    {
     "data": {
      "text/plain": [
       "(118, 12)"
      ]
     },
     "execution_count": 20,
     "metadata": {},
     "output_type": "execute_result"
    }
   ],
   "source": [
    "df1ch2018RCP26.shape"
   ]
  },
  {
   "cell_type": "code",
   "execution_count": 21,
   "metadata": {},
   "outputs": [
    {
     "data": {
      "text/plain": [
       "(118, 25)"
      ]
     },
     "execution_count": 21,
     "metadata": {},
     "output_type": "execute_result"
    }
   ],
   "source": [
    "df1ch2018RCP45.shape"
   ]
  },
  {
   "cell_type": "code",
   "execution_count": 22,
   "metadata": {},
   "outputs": [
    {
     "data": {
      "text/plain": [
       "(118, 31)"
      ]
     },
     "execution_count": 22,
     "metadata": {},
     "output_type": "execute_result"
    }
   ],
   "source": [
    "df1ch2018RCP85.shape"
   ]
  },
  {
   "cell_type": "code",
   "execution_count": 23,
   "metadata": {},
   "outputs": [
    {
     "data": {
      "text/html": [
       "<div>\n",
       "<style scoped>\n",
       "    .dataframe tbody tr th:only-of-type {\n",
       "        vertical-align: middle;\n",
       "    }\n",
       "\n",
       "    .dataframe tbody tr th {\n",
       "        vertical-align: top;\n",
       "    }\n",
       "\n",
       "    .dataframe thead th {\n",
       "        text-align: right;\n",
       "    }\n",
       "</style>\n",
       "<table border=\"1\" class=\"dataframe\">\n",
       "  <thead>\n",
       "    <tr style=\"text-align: right;\">\n",
       "      <th></th>\n",
       "      <th>isOverSnow_DMI-HIRHAM-ECEARTH-EUR11-RCP26-pcp</th>\n",
       "      <th>isOverSnow_KNMI-RACMO-HADGEM-EUR44-RCP26-pcp</th>\n",
       "      <th>isOverSnow_MPICSC-REMO1-MPIESM-EUR11-RCP26-pcp</th>\n",
       "      <th>isOverSnow_MPICSC-REMO1-MPIESM-EUR44-RCP26-pcp</th>\n",
       "      <th>isOverSnow_MPICSC-REMO2-MPIESM-EUR11-RCP26-pcp</th>\n",
       "      <th>isOverSnow_MPICSC-REMO2-MPIESM-EUR44-RCP26-pcp</th>\n",
       "      <th>isOverSnow_SMHI-RCA-ECEARTH-EUR11-RCP26-pcp</th>\n",
       "      <th>isOverSnow_SMHI-RCA-ECEARTH-EUR44-RCP26-pcp</th>\n",
       "      <th>isOverSnow_SMHI-RCA-HADGEM-EUR44-RCP26-pcp</th>\n",
       "      <th>isOverSnow_SMHI-RCA-MIROC-EUR44-RCP26-pcp</th>\n",
       "      <th>isOverSnow_SMHI-RCA-MPIESM-EUR44-RCP26-pcp</th>\n",
       "      <th>isOverSnow_SMHI-RCA-NORESM-EUR44-RCP26-pcp</th>\n",
       "    </tr>\n",
       "  </thead>\n",
       "  <tbody>\n",
       "    <tr>\n",
       "      <th>0</th>\n",
       "      <td>90.203969</td>\n",
       "      <td>132.333504</td>\n",
       "      <td>89.953116</td>\n",
       "      <td>75.516829</td>\n",
       "      <td>81.046344</td>\n",
       "      <td>76.920708</td>\n",
       "      <td>96.019685</td>\n",
       "      <td>104.558984</td>\n",
       "      <td>109.084557</td>\n",
       "      <td>125.574583</td>\n",
       "      <td>58.708332</td>\n",
       "      <td>124.826010</td>\n",
       "    </tr>\n",
       "    <tr>\n",
       "      <th>1</th>\n",
       "      <td>170.751496</td>\n",
       "      <td>154.699745</td>\n",
       "      <td>92.059517</td>\n",
       "      <td>81.412168</td>\n",
       "      <td>159.106193</td>\n",
       "      <td>106.407229</td>\n",
       "      <td>147.118846</td>\n",
       "      <td>141.167089</td>\n",
       "      <td>155.468545</td>\n",
       "      <td>93.641834</td>\n",
       "      <td>101.681629</td>\n",
       "      <td>68.672786</td>\n",
       "    </tr>\n",
       "    <tr>\n",
       "      <th>2</th>\n",
       "      <td>108.220599</td>\n",
       "      <td>119.401598</td>\n",
       "      <td>162.897058</td>\n",
       "      <td>160.465467</td>\n",
       "      <td>104.760866</td>\n",
       "      <td>91.976015</td>\n",
       "      <td>123.415433</td>\n",
       "      <td>85.242691</td>\n",
       "      <td>97.679811</td>\n",
       "      <td>151.118339</td>\n",
       "      <td>161.516569</td>\n",
       "      <td>125.367427</td>\n",
       "    </tr>\n",
       "    <tr>\n",
       "      <th>3</th>\n",
       "      <td>164.546875</td>\n",
       "      <td>113.892925</td>\n",
       "      <td>84.432943</td>\n",
       "      <td>58.848152</td>\n",
       "      <td>127.449451</td>\n",
       "      <td>102.437424</td>\n",
       "      <td>127.520853</td>\n",
       "      <td>97.932622</td>\n",
       "      <td>51.983211</td>\n",
       "      <td>123.439780</td>\n",
       "      <td>69.067331</td>\n",
       "      <td>108.149351</td>\n",
       "    </tr>\n",
       "  </tbody>\n",
       "</table>\n",
       "</div>"
      ],
      "text/plain": [
       "   isOverSnow_DMI-HIRHAM-ECEARTH-EUR11-RCP26-pcp  \\\n",
       "0                                      90.203969   \n",
       "1                                     170.751496   \n",
       "2                                     108.220599   \n",
       "3                                     164.546875   \n",
       "\n",
       "   isOverSnow_KNMI-RACMO-HADGEM-EUR44-RCP26-pcp  \\\n",
       "0                                    132.333504   \n",
       "1                                    154.699745   \n",
       "2                                    119.401598   \n",
       "3                                    113.892925   \n",
       "\n",
       "   isOverSnow_MPICSC-REMO1-MPIESM-EUR11-RCP26-pcp  \\\n",
       "0                                       89.953116   \n",
       "1                                       92.059517   \n",
       "2                                      162.897058   \n",
       "3                                       84.432943   \n",
       "\n",
       "   isOverSnow_MPICSC-REMO1-MPIESM-EUR44-RCP26-pcp  \\\n",
       "0                                       75.516829   \n",
       "1                                       81.412168   \n",
       "2                                      160.465467   \n",
       "3                                       58.848152   \n",
       "\n",
       "   isOverSnow_MPICSC-REMO2-MPIESM-EUR11-RCP26-pcp  \\\n",
       "0                                       81.046344   \n",
       "1                                      159.106193   \n",
       "2                                      104.760866   \n",
       "3                                      127.449451   \n",
       "\n",
       "   isOverSnow_MPICSC-REMO2-MPIESM-EUR44-RCP26-pcp  \\\n",
       "0                                       76.920708   \n",
       "1                                      106.407229   \n",
       "2                                       91.976015   \n",
       "3                                      102.437424   \n",
       "\n",
       "   isOverSnow_SMHI-RCA-ECEARTH-EUR11-RCP26-pcp  \\\n",
       "0                                    96.019685   \n",
       "1                                   147.118846   \n",
       "2                                   123.415433   \n",
       "3                                   127.520853   \n",
       "\n",
       "   isOverSnow_SMHI-RCA-ECEARTH-EUR44-RCP26-pcp  \\\n",
       "0                                   104.558984   \n",
       "1                                   141.167089   \n",
       "2                                    85.242691   \n",
       "3                                    97.932622   \n",
       "\n",
       "   isOverSnow_SMHI-RCA-HADGEM-EUR44-RCP26-pcp  \\\n",
       "0                                  109.084557   \n",
       "1                                  155.468545   \n",
       "2                                   97.679811   \n",
       "3                                   51.983211   \n",
       "\n",
       "   isOverSnow_SMHI-RCA-MIROC-EUR44-RCP26-pcp  \\\n",
       "0                                 125.574583   \n",
       "1                                  93.641834   \n",
       "2                                 151.118339   \n",
       "3                                 123.439780   \n",
       "\n",
       "   isOverSnow_SMHI-RCA-MPIESM-EUR44-RCP26-pcp  \\\n",
       "0                                   58.708332   \n",
       "1                                  101.681629   \n",
       "2                                  161.516569   \n",
       "3                                   69.067331   \n",
       "\n",
       "   isOverSnow_SMHI-RCA-NORESM-EUR44-RCP26-pcp  \n",
       "0                                  124.826010  \n",
       "1                                   68.672786  \n",
       "2                                  125.367427  \n",
       "3                                  108.149351  "
      ]
     },
     "execution_count": 23,
     "metadata": {},
     "output_type": "execute_result"
    }
   ],
   "source": [
    "df1ch2018RCP26.head(4)"
   ]
  },
  {
   "cell_type": "code",
   "execution_count": null,
   "metadata": {},
   "outputs": [],
   "source": [
    "df1ch2018RCP26_Matrix = df1ch2018RCP26.to_numpy()\n",
    "df1ch2018RCP45_Matrix = df1ch2018RCP45.to_numpy()\n",
    "df1ch2018RCP85_Matrix = df1ch2018RCP85.to_numpy()"
   ]
  },
  {
   "cell_type": "code",
   "execution_count": 24,
   "metadata": {},
   "outputs": [],
   "source": [
    "aMaxRCP26 = np.zeros((118, 12))"
   ]
  },
  {
   "cell_type": "code",
   "execution_count": 25,
   "metadata": {},
   "outputs": [],
   "source": [
    "for j in range (len(df1ch2018RCP26Columns)):\n",
    "    for i in range(len(df1ch2018RCP26[df1ch2018RCP26Columns[1]])):\n",
    "        if df1ch2018RCP26[df1ch2018RCP26Columns[j]][i] < 100:\n",
    "            aMaxRCP26[i,j] = (df1ch2018RCP26[df1ch2018RCP26Columns[j]][i] / 100) * 100\n",
    "        else:\n",
    "            aMaxRCP26[i,j] = 100"
   ]
  },
  {
   "cell_type": "markdown",
   "metadata": {},
   "source": [
    "### Heat Map CH2018 RCP2.6"
   ]
  },
  {
   "cell_type": "code",
   "execution_count": 26,
   "metadata": {},
   "outputs": [
    {
     "data": {
      "image/png": "[encoded data removed]",
      "text/plain": [
       "<Figure size 684x540 with 2 Axes>"
      ]
     },
     "metadata": {
      "needs_background": "light"
     },
     "output_type": "display_data"
    }
   ],
   "source": [
    "fig, (ax3) = plt.subplots(1, 1, figsize=(9.5,7.5))\n",
    "\n",
    "c3 = ax3.pcolor(aMaxRCP26)\n",
    "cb3 = fig.colorbar(c3)\n",
    "ax3.set_title('default: no edges')\n",
    "\n",
    "\n",
    "ax3.set_xlabel(\"Climate scenarios\")\n",
    "ax3.set_ylabel(\"Years of Simulation\")\n",
    "plt.title(\"Likelihood of survival (no tipping point occured) of a resort from {} untill the year {}\".format(1981, 2099))\n",
    "\n",
    "fig.tight_layout()\n",
    "plt.show()"
   ]
  },
  {
   "cell_type": "markdown",
   "metadata": {},
   "source": [
    "### Heat Map CH2018 RCP4.5"
   ]
  },
  {
   "cell_type": "code",
   "execution_count": 27,
   "metadata": {},
   "outputs": [],
   "source": [
    "aMaxRCP45 = np.zeros((118, 25))"
   ]
  },
  {
   "cell_type": "code",
   "execution_count": 28,
   "metadata": {},
   "outputs": [],
   "source": [
    "for j in range (len(df1ch2018RCP45Columns)):\n",
    "    for i in range(len(df1ch2018RCP45[df1ch2018RCP45Columns[1]])):\n",
    "        if df1ch2018RCP45[df1ch2018RCP45Columns[j]][i] < 100:\n",
    "            aMaxRCP45[i,j] = (df1ch2018RCP45[df1ch2018RCP45Columns[j]][i] / 100) * 100\n",
    "        else:\n",
    "            aMaxRCP45[i,j] = 100"
   ]
  },
  {
   "cell_type": "code",
   "execution_count": 29,
   "metadata": {},
   "outputs": [
    {
     "data": {
      "image/png": "[encoded data removed]",
      "text/plain": [
       "<Figure size 684x540 with 2 Axes>"
      ]
     },
     "metadata": {
      "needs_background": "light"
     },
     "output_type": "display_data"
    }
   ],
   "source": [
    "fig, (ax3) = plt.subplots(1, 1, figsize=(9.5,7.5))\n",
    "\n",
    "c3 = ax3.pcolor(aMaxRCP45)\n",
    "cb3 = fig.colorbar(c3)\n",
    "ax3.set_title('default: no edges')\n",
    "\n",
    "\n",
    "ax3.set_xlabel(\"Climate scenarios\")\n",
    "ax3.set_ylabel(\"Years of Simulation\")\n",
    "plt.title(\"Likelihood of survival (no tipping point occured) of a resort from {} untill the year {}\".format(1981, 2099))\n",
    "\n",
    "fig.tight_layout()\n",
    "plt.show()"
   ]
  },
  {
   "cell_type": "code",
   "execution_count": null,
   "metadata": {},
   "outputs": [],
   "source": [
    "fig, (ax3) = plt.subplots(1, 1, figsize=(9.5,7.5))\n",
    "\n",
    "c3 = ax3.pcolor(df1ch2018RCP45_Matrix)\n",
    "cb3 = fig.colorbar(c3)\n",
    "ax3.set_title('default: no edges')\n",
    "\n",
    "\n",
    "ax3.set_xlabel(\"Climate scenarios\")\n",
    "ax3.set_ylabel(\"Years of Simulation\")\n",
    "plt.title(\"Likelihood of survival (no tipping point occured) of a resort from {} untill the year {}\".format(1981, 2099))\n",
    "\n",
    "fig.tight_layout()\n",
    "plt.show()"
   ]
  },
  {
   "cell_type": "markdown",
   "metadata": {},
   "source": [
    "### Heat Map CH2018 RCP8.5"
   ]
  },
  {
   "cell_type": "code",
   "execution_count": 32,
   "metadata": {},
   "outputs": [],
   "source": [
    "aMaxRCP85 = np.zeros((118, 31))"
   ]
  },
  {
   "cell_type": "code",
   "execution_count": 33,
   "metadata": {},
   "outputs": [],
   "source": [
    "for j in range (len(df1ch2018RCP85Columns)):\n",
    "    for i in range(len(df1ch2018RCP85[df1ch2018RCP85Columns[1]])):\n",
    "        if df1ch2018RCP85[df1ch2018RCP85Columns[j]][i] < 100:\n",
    "            aMaxRCP85[i,j] = (df1ch2018RCP85[df1ch2018RCP85Columns[j]][i] / 100) * 100\n",
    "        else:\n",
    "            aMaxRCP85[i,j] = 100"
   ]
  },
  {
   "cell_type": "code",
   "execution_count": 35,
   "metadata": {},
   "outputs": [
    {
     "data": {
      "image/png": "[encoded data removed]",
      "text/plain": [
       "<Figure size 684x540 with 2 Axes>"
      ]
     },
     "metadata": {
      "needs_background": "light"
     },
     "output_type": "display_data"
    }
   ],
   "source": [
    "fig, (ax3) = plt.subplots(1, 1, figsize=(9.5,7.5))\n",
    "\n",
    "c3 = ax3.pcolor(aMaxRCP85)\n",
    "cb3 = fig.colorbar(c3)\n",
    "ax3.set_title('default: no edges')\n",
    "\n",
    "\n",
    "ax3.set_xlabel(\"Climate scenarios\")\n",
    "ax3.set_ylabel(\"Years of Simulation\")\n",
    "plt.title(\"Likelihood of survival (no tipping point occured) of a resort from {} untill the year {}\".format(1981, 2099))\n",
    "\n",
    "fig.tight_layout()\n",
    "plt.show()"
   ]
  },
  {
   "cell_type": "markdown",
   "metadata": {},
   "source": [
    "## End"
   ]
  },
  {
   "cell_type": "code",
   "execution_count": null,
   "metadata": {},
   "outputs": [],
   "source": []
  }
 ],
 "metadata": {
  "kernelspec": {
   "display_name": "Python 3",
   "language": "python",
   "name": "python3"
  },
  "language_info": {
   "codemirror_mode": {
    "name": "ipython",
    "version": 3
   },
   "file_extension": ".py",
   "mimetype": "text/x-python",
   "name": "python",
   "nbconvert_exporter": "python",
   "pygments_lexer": "ipython3",
   "version": "3.7.3"
  }
 },
 "nbformat": 4,
 "nbformat_minor": 2
}
